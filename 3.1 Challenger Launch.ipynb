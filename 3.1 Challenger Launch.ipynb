{
 "cells": [
  {
   "cell_type": "markdown",
   "metadata": {},
   "source": [
    "# Case Study 3.1: Challenger Launch\n",
    "\n",
    "In this classic challenge we try to assess whether the data available prior to Challenger going up in flames was sufficient to show that performing the launch at 30 degrees was a terrible idea."
   ]
  },
  {
   "cell_type": "code",
   "execution_count": null,
   "metadata": {},
   "outputs": [],
   "source": [
    "import numpy as np\n",
    "import pandas as pd\n",
    "import matplotlib.pyplot as plt\n",
    "import seaborn as sns\n",
    "%matplotlib inline\n",
    "\n",
    "from sklearn.preprocessing import StandardScaler\n",
    "from sklearn.model_selection import cross_validate\n",
    "from sklearn.linear_model import RidgeClassifier, LogisticRegression\n",
    "from sklearn.pipeline import Pipeline\n",
    "\n",
    "from interpret import show\n",
    "from interpret.data import Marginal"
   ]
  },
  {
   "cell_type": "code",
   "execution_count": null,
   "metadata": {},
   "outputs": [],
   "source": [
    "data = pd.read_csv('data/challenger-data.csv').drop('Observation', axis=1)\n",
    "scaler = StandardScaler()\n",
    "X = scaler.fit_transform(X=data[['X']])\n",
    "y = data['Y']\n",
    "# We'll start by visualizing the margainl distribution between X and Y\n",
    "marginals = Marginal()\n",
    "show(marginals.explain_data(X=data[['X']], y=data['Y']))"
   ]
  },
  {
   "cell_type": "markdown",
   "metadata": {},
   "source": [
    "### Modeling Strategy\n",
    "\n",
    "We end up using simple Logistic Regression and the ridge varient in fitting this data.  After plotting both, it is obvious that launch at 30 degrees is a terrible idea. A property of scikit-learn is that we can only get probabilistic predictions from the LogsisticRegression and not the RidgeClassifier class, but using that I can tell you that it was a rougly 80% chance that Challenger explode when launching in these conditions. "
   ]
  },
  {
   "cell_type": "code",
   "execution_count": null,
   "metadata": {},
   "outputs": [],
   "source": [
    "ridge = RidgeClassifier(alpha=0.1, normalize=True)\n",
    "cross_validate(estimator=ridge, X=X, y=y, n_jobs=12, return_train_score=True)"
   ]
  },
  {
   "cell_type": "code",
   "execution_count": null,
   "metadata": {},
   "outputs": [],
   "source": [
    "ridge.fit(X=X, y=y)\n",
    "ridge.coef_, ridge.intercept_"
   ]
  },
  {
   "cell_type": "code",
   "execution_count": null,
   "metadata": {},
   "outputs": [],
   "source": [
    "def sigmoid(x, model):\n",
    "    return 1 / (1 + np.exp(-(model.intercept_ + model.coef_*x)))\n",
    "\n",
    "rng = np.arange(-6, 3, .1)\n",
    "pred = sigmoid(rng, ridge).reshape(-1)\n",
    "plt.scatter(X, y)\n",
    "plt.plot(rng, pred)"
   ]
  },
  {
   "cell_type": "code",
   "execution_count": null,
   "metadata": {},
   "outputs": [],
   "source": [
    "plt.scatter(X, y)\n",
    "plt.plot(rng, pred)"
   ]
  },
  {
   "cell_type": "code",
   "execution_count": null,
   "metadata": {},
   "outputs": [],
   "source": [
    "linear = LogisticRegression()\n",
    "linear.fit(X, y)\n",
    "def predict_risk(temp):\n",
    "    on_the_day = scaler.transform(X=[[temp]])\n",
    "    return linear.predict_proba(on_the_day)[:, 1]"
   ]
  },
  {
   "cell_type": "code",
   "execution_count": null,
   "metadata": {},
   "outputs": [],
   "source": [
    "predict_risk(30)"
   ]
  },
  {
   "cell_type": "code",
   "execution_count": null,
   "metadata": {},
   "outputs": [],
   "source": [
    "rng = np.arange(-6, 3, .1)\n",
    "pred = sigmoid(rng, linear).reshape(-1)\n",
    "plt.scatter(X, y)\n",
    "plt.plot(rng, pred)"
   ]
  },
  {
   "cell_type": "code",
   "execution_count": null,
   "metadata": {},
   "outputs": [],
   "source": []
  }
 ],
 "metadata": {
  "kernelspec": {
   "display_name": "Python 3",
   "language": "python",
   "name": "python3"
  },
  "language_info": {
   "codemirror_mode": {
    "name": "ipython",
    "version": 3
   },
   "file_extension": ".py",
   "mimetype": "text/x-python",
   "name": "python",
   "nbconvert_exporter": "python",
   "pygments_lexer": "ipython3",
   "version": "3.7.1"
  }
 },
 "nbformat": 4,
 "nbformat_minor": 2
}
