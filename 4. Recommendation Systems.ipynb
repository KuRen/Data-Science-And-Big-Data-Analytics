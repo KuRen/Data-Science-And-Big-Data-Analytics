{
 "cells": [
  {
   "cell_type": "markdown",
   "metadata": {},
   "source": [
    "# Recommendation Systems\n",
    "\n",
    "In this module, we review a few of the most popular algorithms for recommendation systems.\n",
    "\n",
    "## System 1: Population Averages\n",
    "\n",
    "The simplest method is to take the average of all available data on a particular item, and then rank them based on that average.\n",
    "\n",
    "Pros:\n",
    "\n",
    "* Incredibly easy to implement (no data science required really)\n",
    "\n",
    "Cons:\n",
    "\n",
    "* All of them.  If you have no data or little data, either doesn't work or wildly biased from the initial reviews.\n",
    "* Treats all people as having the same preferences.\n",
    "* All reviews are treated equally\n",
    "\n",
    "\n",
    "### Improvements\n",
    "\n",
    "There are a few corrections that one can make which address the first con. \n",
    "\n",
    "#### Correcting for Small Numbers of Reviews\n",
    "\n",
    "Take the new rating to be the: $$\\text{average rating} - \\text{Constant}/\\sqrt{\\text{# of ratings}}$$\n",
    "\n",
    "Where the constant is strategically chosen based on the possibly range of values for the average. If it's between 0 and 1, try a constant of 0.5. If it's between 0 and 5, then try a constant of 2.5.\n",
    "\n",
    "The behavior of this correction is for more conservative reviews.  If we flip the correction to be positive instead of negative, we would then have a system which learned on higher rating and encouraged more exploration from our users."
   ]
  },
  {
   "cell_type": "code",
   "execution_count": null,
   "metadata": {},
   "outputs": [],
   "source": []
  }
 ],
 "metadata": {
  "kernelspec": {
   "display_name": "Python 3",
   "language": "python",
   "name": "python3"
  },
  "language_info": {
   "name": ""
  }
 },
 "nbformat": 4,
 "nbformat_minor": 2
}
