{
 "cells": [
  {
   "cell_type": "markdown",
   "metadata": {},
   "source": [
    "# Spectral Clustering News Stories\n",
    "\n",
    "The first step is to gather some data.  Our goal here will be to use goose3 to parse a Google News page, and use a small custom function to generate a list of news articles that we want to parse.\n",
    "\n",
    "The goal of clustering these news articles is to identify topics. Google will likely give us a few potential tags we could use for each article including the overarching list of topics such as:\n",
    "  * U.S.\n",
    "  * World\n",
    "  * Sports\n",
    "  * Technology\n",
    "  * Entertainment\n",
    "  * etc..."
   ]
  },
  {
   "cell_type": "code",
   "execution_count": 16,
   "metadata": {},
   "outputs": [],
   "source": [
    "# For Scraping Google News\n",
    "import bs4\n",
    "import lxml #xml parser\n",
    "import ssl\n",
    "from bs4 import BeautifulSoup as soup\n",
    "from urllib.request import urlopen\n",
    "\n",
    "# For Scraping Articles\n",
    "from goose3 import Goose\n",
    "\n",
    "from tqdm import tqdm\n",
    "import pandas as pd\n",
    "import matplotlib.pyplot as plt\n",
    "%matplotlib inline\n",
    "\n",
    "from sklearn.feature_extraction.text import TfidfVectorizer\n",
    "from sklearn.cluster import SpectralClustering\n",
    "from sklearn.manifold import TSNE\n",
    "from sklearn.decomposition import PCA\n",
    "from sklearn.preprocessing import LabelEncoder\n",
    "\n",
    "def scape_news_links(xml_news_url):\n",
    "    '''\n",
    "    Provide a url which will return an XML file to parse. Returns the links to news stories.\n",
    "    \n",
    "    Params\n",
    "    ------\n",
    "    xml_news_url: string\n",
    "        A URL which will return \n",
    "    '''\n",
    "\n",
    "    context = ssl._create_unverified_context()\n",
    "    Client=urlopen(xml_news_url, context=context)\n",
    "    xml_page=Client.read()\n",
    "    Client.close()\n",
    "\n",
    "    soup_page=soup(xml_page,\"xml\")\n",
    "\n",
    "    news_list=soup_page.findAll(\"item\")\n",
    "\n",
    "    return [news.link.text for news in news_list]\n",
    "\n",
    "def scrape_news_articles(topics=[]):\n",
    "    if topics == []:\n",
    "        topics = ['WORLD', 'SPORTS', 'TECHNOLOGY', 'BUSINESS', 'ENTERTAINMENT', 'SCIENCE', 'HEALTH']\n",
    "    stem = \"https://news.google.com/news/rss/headlines/section/topic/\"\n",
    "    g = Goose()\n",
    "    articles = []\n",
    "    for topic in topics:\n",
    "        links = scape_news_links(stem + topic)\n",
    "        for link in tqdm(links):\n",
    "            try:\n",
    "                article = g.extract(url=link)\n",
    "                articles.append({\n",
    "                    'title': article.title,\n",
    "                    'tag': topic,\n",
    "                    'text': article.cleaned_text\n",
    "                })\n",
    "            except:\n",
    "                pass\n",
    "    return articles"
   ]
  },
  {
   "cell_type": "code",
   "execution_count": 17,
   "metadata": {},
   "outputs": [
    {
     "data": {
      "text/html": [
       "<div>\n",
       "<style scoped>\n",
       "    .dataframe tbody tr th:only-of-type {\n",
       "        vertical-align: middle;\n",
       "    }\n",
       "\n",
       "    .dataframe tbody tr th {\n",
       "        vertical-align: top;\n",
       "    }\n",
       "\n",
       "    .dataframe thead th {\n",
       "        text-align: right;\n",
       "    }\n",
       "</style>\n",
       "<table border=\"1\" class=\"dataframe\">\n",
       "  <thead>\n",
       "    <tr style=\"text-align: right;\">\n",
       "      <th></th>\n",
       "      <th>tag</th>\n",
       "      <th>text</th>\n",
       "      <th>title</th>\n",
       "    </tr>\n",
       "  </thead>\n",
       "  <tbody>\n",
       "    <tr>\n",
       "      <th>0</th>\n",
       "      <td>6</td>\n",
       "      <td>U.S. To Lift Tariffs On Steel And Aluminum Fro...</td>\n",
       "      <td>U.S. To Lift Tariffs On Steel And Aluminum Fro...</td>\n",
       "    </tr>\n",
       "    <tr>\n",
       "      <th>1</th>\n",
       "      <td>6</td>\n",
       "      <td>Rep. Tulsi Gabbard said she looks forward to a...</td>\n",
       "      <td>Rep. Tulsi Gabbard warns war with Iran would m...</td>\n",
       "    </tr>\n",
       "    <tr>\n",
       "      <th>2</th>\n",
       "      <td>6</td>\n",
       "      <td>Get YouTube without the ads.</td>\n",
       "      <td>Brexit talks between Labour and the Conservati...</td>\n",
       "    </tr>\n",
       "    <tr>\n",
       "      <th>3</th>\n",
       "      <td>6</td>\n",
       "      <td>LONDON/OSLO (Reuters) - Iran’s elite Revolutio...</td>\n",
       "      <td>Exclusive: Insurer says Iran's Guards likely t...</td>\n",
       "    </tr>\n",
       "    <tr>\n",
       "      <th>4</th>\n",
       "      <td>6</td>\n",
       "      <td>Thousands of marriage-equality advocates celeb...</td>\n",
       "      <td>Taiwan becomes first in Asia to legalize same-...</td>\n",
       "    </tr>\n",
       "  </tbody>\n",
       "</table>\n",
       "</div>"
      ],
      "text/plain": [
       "   tag                                               text  \\\n",
       "0    6  U.S. To Lift Tariffs On Steel And Aluminum Fro...   \n",
       "1    6  Rep. Tulsi Gabbard said she looks forward to a...   \n",
       "2    6                       Get YouTube without the ads.   \n",
       "3    6  LONDON/OSLO (Reuters) - Iran’s elite Revolutio...   \n",
       "4    6  Thousands of marriage-equality advocates celeb...   \n",
       "\n",
       "                                               title  \n",
       "0  U.S. To Lift Tariffs On Steel And Aluminum Fro...  \n",
       "1  Rep. Tulsi Gabbard warns war with Iran would m...  \n",
       "2  Brexit talks between Labour and the Conservati...  \n",
       "3  Exclusive: Insurer says Iran's Guards likely t...  \n",
       "4  Taiwan becomes first in Asia to legalize same-...  "
      ]
     },
     "execution_count": 17,
     "metadata": {},
     "output_type": "execute_result"
    }
   ],
   "source": [
    "pull_new = False\n",
    "if pull_new:\n",
    "    data = scrape_news_articles()\n",
    "    df = pd.DataFrame(data)\n",
    "    df.to_pickle('data/raw_articles.pickle')\n",
    "    df.to_csv('data/raw_articles.csv')\n",
    "else:\n",
    "    df = pd.read_pickle('data/raw_articles.pickle')\n",
    "encoder = LabelEncoder()\n",
    "df['tag'] = encoder.fit_transform(df['tag'])\n",
    "df.head()"
   ]
  },
  {
   "cell_type": "markdown",
   "metadata": {},
   "source": [
    "## Transform Data with TF-IDF\n",
    "The next steps are to do so initial data processing.  We will first want a bag of words representation of the all of our articles, and then we'll scale that matrix by TF-IDF to complete our feature engineering in this case study.\n",
    "\n",
    "The case study wants us to use MITIE, which looks like a MIT homebrewed solution and having never heard of it I'm not super interested in using this one.  Instead I will leverage scikit learn to perform these relatively simple tasks all in one pass."
   ]
  },
  {
   "cell_type": "code",
   "execution_count": 18,
   "metadata": {},
   "outputs": [
    {
     "data": {
      "text/plain": [
       "(490, 19755)"
      ]
     },
     "execution_count": 18,
     "metadata": {},
     "output_type": "execute_result"
    }
   ],
   "source": [
    "stop_words = [\"a\", \"about\", \"above\", \"above\", \"across\", \"after\", \"afterwards\", \"again\", \"against\", \"all\", \"almost\", \"alone\", \"along\", \"already\", \"also\",\"although\",\"always\",\"am\",\"among\", \"amongst\", \"amoungst\", \"amount\",  \"an\", \"and\", \"another\", \"any\",\"anyhow\",\"anyone\",\"anything\",\"anyway\", \"anywhere\", \"are\", \"around\", \"as\",  \"at\", \"back\",\"be\",\"became\", \"because\",\"become\",\"becomes\", \"becoming\", \"been\", \"before\", \"beforehand\", \"behind\", \"being\", \"below\", \"beside\", \"besides\", \"between\", \"beyond\", \"bill\", \"both\", \"bottom\",\"but\", \"by\", \"call\", \"can\", \"cannot\", \"cant\", \"co\", \"con\", \"could\", \"couldnt\", \"cry\", \"de\", \"describe\", \"detail\", \"do\", \"done\", \"down\", \"due\", \"during\", \"each\", \"eg\", \"eight\", \"either\", \"eleven\",\"else\", \"elsewhere\", \"empty\", \"enough\", \"etc\", \"even\", \"ever\", \"every\", \"everyone\", \"everything\", \"everywhere\", \"except\", \"few\", \"fifteen\", \"fify\", \"fill\", \"find\", \"fire\", \"first\", \"five\", \"for\", \"former\", \"formerly\", \"forty\", \"found\", \"four\", \"from\", \"front\", \"full\", \"further\", \"get\", \"give\", \"go\", \"had\", \"has\", \"hasnt\", \"have\", \"he\", \"hence\", \"her\", \"here\", \"hereafter\", \"hereby\", \"herein\", \"hereupon\", \"hers\", \"herself\", \"him\", \"himself\", \"his\", \"how\", \"however\", \"hundred\", \"ie\", \"if\", \"in\", \"inc\", \"indeed\", \"interest\", \"into\", \"is\", \"it\", \"its\", \"itself\", \"keep\", \"last\", \"latter\", \"latterly\", \"least\", \"less\", \"ltd\", \"made\", \"many\", \"may\", \"me\", \"meanwhile\", \"might\", \"mill\", \"mine\", \"more\", \"moreover\", \"most\", \"mostly\", \"move\", \"much\", \"must\", \"my\", \"myself\", \"name\", \"namely\", \"neither\", \"never\", \"nevertheless\", \"next\", \"nine\", \"no\", \"nobody\", \"none\", \"noone\", \"nor\", \"not\", \"nothing\", \"now\", \"nowhere\", \"of\", \"off\", \"often\", \"on\", \"once\", \"one\", \"only\", \"onto\", \"or\", \"other\", \"others\", \"otherwise\", \"our\", \"ours\", \"ourselves\", \"out\", \"over\", \"own\",\"part\", \"per\", \"perhaps\", \"please\", \"put\", \"rather\", \"re\", \"same\", \"see\", \"seem\", \"seemed\", \"seeming\", \"seems\", \"serious\", \"several\", \"she\", \"should\", \"show\", \"side\", \"since\", \"sincere\", \"six\", \"sixty\", \"so\", \"some\", \"somehow\", \"someone\", \"something\", \"sometime\", \"sometimes\", \"somewhere\", \"still\", \"such\", \"system\", \"take\", \"ten\", \"than\", \"that\", \"the\", \"their\", \"them\", \"themselves\", \"then\", \"thence\", \"there\", \"thereafter\", \"thereby\", \"therefore\", \"therein\", \"thereupon\", \"these\", \"they\", \"thick\", \"thin\", \"third\", \"this\", \"those\", \"though\", \"three\", \"through\", \"throughout\", \"thru\", \"thus\", \"to\", \"together\", \"too\", \"top\", \"toward\", \"towards\", \"twelve\", \"twenty\", \"two\", \"un\", \"under\", \"until\", \"up\", \"upon\", \"us\", \"very\", \"via\", \"was\", \"we\", \"well\", \"were\", \"what\", \"whatever\", \"when\", \"whence\", \"whenever\", \"where\", \"whereafter\", \"whereas\", \"whereby\", \"wherein\", \"whereupon\", \"wherever\", \"whether\", \"which\", \"while\", \"whither\", \"who\", \"whoever\", \"whole\", \"whom\", \"whose\", \"why\", \"will\", \"with\", \"within\", \"without\", \"would\", \"yet\", \"you\", \"your\", \"yours\", \"yourself\", \"yourselves\", \"the\"]\n",
    "vectorizer = TfidfVectorizer(stop_words=stop_words)\n",
    "vectorized = vectorizer.fit_transform(df['text'])\n",
    "dense = vectorized.todense()\n",
    "vectorized.shape"
   ]
  },
  {
   "cell_type": "markdown",
   "metadata": {},
   "source": [
    "Some quick spot checks verify that this very large and sparse array looks like it could be the TF-IDF representation of our documents. At the very least, we see a reasonable shape with the correct number of rows. \n",
    "\n",
    "### Time to Cluster: Spectral Clustering\n",
    "With spectral clustering we first calculate the laplacian of a graph representing our data.  Clustering is then done on the relevant eiganvectors."
   ]
  },
  {
   "cell_type": "code",
   "execution_count": 19,
   "metadata": {},
   "outputs": [
    {
     "data": {
      "text/plain": [
       "array([5, 1, 3, 1, 1, 1, 3, 5, 1, 5, 1, 1, 3, 1, 1, 1, 1, 1, 1, 1, 1, 1,\n",
       "       1, 5, 1, 1, 1, 1, 1, 1, 1, 6, 1, 1, 1, 1, 1, 1, 1, 3, 1, 1, 5, 1,\n",
       "       1, 1, 1, 1, 1, 1, 1, 1, 5, 5, 1, 1, 1, 1, 1, 1, 1, 1, 5, 1, 1, 1,\n",
       "       1, 1, 1, 1, 0, 0, 0, 0, 0, 0, 0, 0, 0, 0, 0, 0, 0, 0, 0, 0, 0, 0,\n",
       "       0, 1, 1, 0, 0, 0, 1, 1, 0, 0, 0, 0, 3, 0, 0, 0, 1, 0, 0, 0, 0, 0,\n",
       "       0, 1, 0, 0, 0, 0, 0, 1, 3, 0, 1, 0, 1, 0, 0, 0, 3, 0, 0, 0, 0, 0,\n",
       "       0, 0, 0, 0, 3, 0, 4, 0, 4, 6, 4, 4, 4, 4, 4, 4, 4, 4, 4, 4, 4, 1,\n",
       "       4, 4, 4, 4, 1, 4, 4, 0, 4, 4, 6, 0, 4, 4, 1, 3, 4, 1, 4, 4, 1, 4,\n",
       "       4, 4, 4, 3, 4, 1, 4, 4, 4, 4, 4, 4, 0, 4, 1, 4, 4, 1, 4, 4, 3, 4,\n",
       "       1, 1, 5, 4, 3, 0, 4, 4, 0, 0, 1, 1, 5, 5, 1, 5, 1, 4, 5, 1, 5, 5,\n",
       "       1, 5, 5, 1, 5, 1, 5, 1, 5, 1, 4, 5, 4, 1, 1, 5, 1, 5, 5, 1, 1, 5,\n",
       "       5, 3, 5, 1, 5, 5, 1, 4, 5, 1, 5, 5, 5, 5, 1, 1, 1, 5, 5, 5, 1, 5,\n",
       "       1, 5, 1, 4, 5, 1, 5, 5, 5, 1, 1, 5, 1, 1, 5, 5, 0, 1, 1, 1, 1, 3,\n",
       "       5, 4, 0, 3, 1, 1, 1, 0, 1, 0, 0, 1, 1, 1, 0, 1, 1, 1, 0, 1, 1, 1,\n",
       "       1, 1, 1, 0, 1, 1, 3, 1, 1, 1, 1, 1, 1, 3, 3, 1, 1, 1, 0, 1, 3, 1,\n",
       "       3, 1, 0, 1, 3, 1, 1, 0, 1, 1, 3, 1, 3, 3, 1, 3, 0, 3, 1, 1, 6, 6,\n",
       "       6, 6, 6, 6, 2, 4, 1, 6, 2, 6, 2, 6, 6, 2, 2, 6, 1, 2, 2, 6, 6, 2,\n",
       "       6, 6, 2, 2, 2, 2, 2, 6, 2, 2, 6, 2, 2, 2, 1, 6, 6, 6, 6, 6, 6, 2,\n",
       "       6, 2, 6, 2, 6, 2, 6, 6, 4, 2, 6, 1, 2, 6, 2, 6, 1, 6, 2, 6, 6, 6,\n",
       "       6, 6, 2, 1, 1, 2, 1, 1, 2, 2, 1, 1, 1, 1, 1, 2, 1, 1, 1, 2, 1, 2,\n",
       "       1, 2, 1, 1, 1, 2, 1, 1, 1, 1, 2, 1, 1, 2, 5, 2, 1, 2, 1, 1, 2, 2,\n",
       "       1, 1, 2, 1, 2, 1, 1, 1, 1, 2, 1, 1, 2, 2, 1, 1, 2, 2, 2, 2, 1, 1,\n",
       "       1, 2, 2, 2, 1, 3])"
      ]
     },
     "execution_count": 19,
     "metadata": {},
     "output_type": "execute_result"
    }
   ],
   "source": [
    "model = SpectralClustering(n_clusters=7,\n",
    "                           affinity=\"nearest_neighbors\",\n",
    "                           n_neighbors = 30)\n",
    "\n",
    "model.fit(vectorized)\n",
    "base_predictions = model.labels_\n",
    "base_predictions"
   ]
  },
  {
   "cell_type": "markdown",
   "metadata": {},
   "source": [
    "So we've successfully clustered our articles, and there is some indication that we're even doing a pretty decent job for some of the possible labels.  However, currently we can only look at the set of labels.  Might there be a way to visualize this?  I will try out both PCA and T-SNE to process the TF-IDF representation to reduce the dimensions to 2."
   ]
  },
  {
   "cell_type": "code",
   "execution_count": 20,
   "metadata": {},
   "outputs": [],
   "source": [
    "pca = PCA(n_components=2)\n",
    "p_embedding = pca.fit_transform(dense)"
   ]
  },
  {
   "cell_type": "code",
   "execution_count": 21,
   "metadata": {},
   "outputs": [
    {
     "data": {
      "image/png": "[encoded data removed]",
      "text/plain": [
       "<Figure size 864x576 with 2 Axes>"
      ]
     },
     "metadata": {
      "needs_background": "light"
     },
     "output_type": "display_data"
    }
   ],
   "source": [
    "f, ax = plt.subplots(1, 2, figsize=(12, 8))\n",
    "ax[0].scatter(p_embedding[:, 0], \n",
    "              p_embedding[:, 1],\n",
    "              c=df['tag'])\n",
    "ax[0].set_title(\"PCA Embedding with Base Truth\")\n",
    "ax[1].scatter(p_embedding[:, 0], \n",
    "              p_embedding[:, 1],\n",
    "              c=base_predictions)\n",
    "ax[1].set_title(\"PCA Embedding with Spectral Clustering\")\n",
    "\n",
    "plt.show()"
   ]
  },
  {
   "cell_type": "code",
   "execution_count": 26,
   "metadata": {},
   "outputs": [],
   "source": [
    "tsne = TSNE(n_components=2, perplexity=20.0, early_exaggeration=12.0, \n",
    "            learning_rate=300.0, n_iter=1000, n_iter_without_progress=300,\n",
    "            verbose=0)\n",
    "t_embedding = tsne.fit_transform(dense)"
   ]
  },
  {
   "cell_type": "code",
   "execution_count": 27,
   "metadata": {},
   "outputs": [
    {
     "data": {
      "image/png": "[encoded data removed]",
      "text/plain": [
       "<Figure size 864x576 with 2 Axes>"
      ]
     },
     "metadata": {
      "needs_background": "light"
     },
     "output_type": "display_data"
    }
   ],
   "source": [
    "f, ax = plt.subplots(1, 2, figsize=(12, 8))\n",
    "ax[0].scatter(t_embedding[:, 0], \n",
    "              t_embedding[:, 1], \n",
    "              c=df['tag'])\n",
    "ax[0].set_title(\"T-SNE Embedding with Base Truth\")\n",
    "ax[1].scatter(t_embedding[:, 0], \n",
    "              t_embedding[:, 1], \n",
    "              c=base_predictions)\n",
    "ax[1].set_title(\"T-SNE Embedding with Spectral Clustering\")\n",
    "\n",
    "plt.show()"
   ]
  },
  {
   "cell_type": "code",
   "execution_count": 24,
   "metadata": {},
   "outputs": [
    {
     "data": {
      "text/html": [
       "<div>\n",
       "<style scoped>\n",
       "    .dataframe tbody tr th:only-of-type {\n",
       "        vertical-align: middle;\n",
       "    }\n",
       "\n",
       "    .dataframe tbody tr th {\n",
       "        vertical-align: top;\n",
       "    }\n",
       "\n",
       "    .dataframe thead th {\n",
       "        text-align: right;\n",
       "    }\n",
       "</style>\n",
       "<table border=\"1\" class=\"dataframe\">\n",
       "  <thead>\n",
       "    <tr style=\"text-align: right;\">\n",
       "      <th></th>\n",
       "      <th>tag</th>\n",
       "      <th>text</th>\n",
       "      <th>title</th>\n",
       "      <th>predictions</th>\n",
       "    </tr>\n",
       "  </thead>\n",
       "  <tbody>\n",
       "    <tr>\n",
       "      <th>0</th>\n",
       "      <td>6</td>\n",
       "      <td>U.S. To Lift Tariffs On Steel And Aluminum Fro...</td>\n",
       "      <td>U.S. To Lift Tariffs On Steel And Aluminum Fro...</td>\n",
       "      <td>5</td>\n",
       "    </tr>\n",
       "    <tr>\n",
       "      <th>1</th>\n",
       "      <td>6</td>\n",
       "      <td>Rep. Tulsi Gabbard said she looks forward to a...</td>\n",
       "      <td>Rep. Tulsi Gabbard warns war with Iran would m...</td>\n",
       "      <td>1</td>\n",
       "    </tr>\n",
       "    <tr>\n",
       "      <th>2</th>\n",
       "      <td>6</td>\n",
       "      <td>Get YouTube without the ads.</td>\n",
       "      <td>Brexit talks between Labour and the Conservati...</td>\n",
       "      <td>3</td>\n",
       "    </tr>\n",
       "    <tr>\n",
       "      <th>3</th>\n",
       "      <td>6</td>\n",
       "      <td>LONDON/OSLO (Reuters) - Iran’s elite Revolutio...</td>\n",
       "      <td>Exclusive: Insurer says Iran's Guards likely t...</td>\n",
       "      <td>1</td>\n",
       "    </tr>\n",
       "    <tr>\n",
       "      <th>4</th>\n",
       "      <td>6</td>\n",
       "      <td>Thousands of marriage-equality advocates celeb...</td>\n",
       "      <td>Taiwan becomes first in Asia to legalize same-...</td>\n",
       "      <td>1</td>\n",
       "    </tr>\n",
       "  </tbody>\n",
       "</table>\n",
       "</div>"
      ],
      "text/plain": [
       "   tag                                               text  \\\n",
       "0    6  U.S. To Lift Tariffs On Steel And Aluminum Fro...   \n",
       "1    6  Rep. Tulsi Gabbard said she looks forward to a...   \n",
       "2    6                       Get YouTube without the ads.   \n",
       "3    6  LONDON/OSLO (Reuters) - Iran’s elite Revolutio...   \n",
       "4    6  Thousands of marriage-equality advocates celeb...   \n",
       "\n",
       "                                               title  predictions  \n",
       "0  U.S. To Lift Tariffs On Steel And Aluminum Fro...            5  \n",
       "1  Rep. Tulsi Gabbard warns war with Iran would m...            1  \n",
       "2  Brexit talks between Labour and the Conservati...            3  \n",
       "3  Exclusive: Insurer says Iran's Guards likely t...            1  \n",
       "4  Taiwan becomes first in Asia to legalize same-...            1  "
      ]
     },
     "execution_count": 24,
     "metadata": {},
     "output_type": "execute_result"
    }
   ],
   "source": [
    "df['predictions'] = base_predictions\n",
    "df.head()"
   ]
  },
  {
   "cell_type": "markdown",
   "metadata": {},
   "source": [
    "### A Last Attempt to Quantitatively Evaluate Our Clustering\n",
    "\n",
    "Since we have base truths, we can do an external evaluation by looking at the variance within groups.  If our clustering alogithm has done well there will be low variance (ideally 0 because they are all the same class), otherwise there will be high variance."
   ]
  },
  {
   "cell_type": "code",
   "execution_count": 25,
   "metadata": {},
   "outputs": [
    {
     "data": {
      "text/html": [
       "<div>\n",
       "<style scoped>\n",
       "    .dataframe tbody tr th:only-of-type {\n",
       "        vertical-align: middle;\n",
       "    }\n",
       "\n",
       "    .dataframe tbody tr th {\n",
       "        vertical-align: top;\n",
       "    }\n",
       "\n",
       "    .dataframe thead th {\n",
       "        text-align: right;\n",
       "    }\n",
       "</style>\n",
       "<table border=\"1\" class=\"dataframe\">\n",
       "  <thead>\n",
       "    <tr style=\"text-align: right;\">\n",
       "      <th></th>\n",
       "      <th>tag</th>\n",
       "      <th>predictions</th>\n",
       "      <th>labels</th>\n",
       "    </tr>\n",
       "  </thead>\n",
       "  <tbody>\n",
       "    <tr>\n",
       "      <th>0</th>\n",
       "      <td>0</td>\n",
       "      <td>3.653209</td>\n",
       "      <td>BUSINESS</td>\n",
       "    </tr>\n",
       "    <tr>\n",
       "      <th>1</th>\n",
       "      <td>1</td>\n",
       "      <td>1.198551</td>\n",
       "      <td>ENTERTAINMENT</td>\n",
       "    </tr>\n",
       "    <tr>\n",
       "      <th>2</th>\n",
       "      <td>2</td>\n",
       "      <td>0.455694</td>\n",
       "      <td>HEALTH</td>\n",
       "    </tr>\n",
       "    <tr>\n",
       "      <th>3</th>\n",
       "      <td>3</td>\n",
       "      <td>4.294203</td>\n",
       "      <td>SCIENCE</td>\n",
       "    </tr>\n",
       "    <tr>\n",
       "      <th>4</th>\n",
       "      <td>4</td>\n",
       "      <td>0.754658</td>\n",
       "      <td>SPORTS</td>\n",
       "    </tr>\n",
       "    <tr>\n",
       "      <th>5</th>\n",
       "      <td>5</td>\n",
       "      <td>2.424224</td>\n",
       "      <td>TECHNOLOGY</td>\n",
       "    </tr>\n",
       "    <tr>\n",
       "      <th>6</th>\n",
       "      <td>6</td>\n",
       "      <td>2.030021</td>\n",
       "      <td>WORLD</td>\n",
       "    </tr>\n",
       "  </tbody>\n",
       "</table>\n",
       "</div>"
      ],
      "text/plain": [
       "   tag  predictions         labels\n",
       "0    0     3.653209       BUSINESS\n",
       "1    1     1.198551  ENTERTAINMENT\n",
       "2    2     0.455694         HEALTH\n",
       "3    3     4.294203        SCIENCE\n",
       "4    4     0.754658         SPORTS\n",
       "5    5     2.424224     TECHNOLOGY\n",
       "6    6     2.030021          WORLD"
      ]
     },
     "execution_count": 25,
     "metadata": {},
     "output_type": "execute_result"
    }
   ],
   "source": [
    "error = df.groupby('tag').agg({'predictions':'var'}).reset_index()\n",
    "error['labels'] = encoder.inverse_transform(error['tag'])\n",
    "error"
   ]
  },
  {
   "cell_type": "markdown",
   "metadata": {},
   "source": [
    "Interesting we see a range of results.  Sports apepars to have been relatively consistently identified with the lowest variance.  However, Health seems to have been extremely hard to distinguish from other classes.  These findings may not be consistent run to run of course. "
   ]
  }
 ],
 "metadata": {
  "kernelspec": {
   "display_name": "Python 3",
   "language": "python",
   "name": "python3"
  },
  "language_info": {
   "codemirror_mode": {
    "name": "ipython",
    "version": 3
   },
   "file_extension": ".py",
   "mimetype": "text/x-python",
   "name": "python",
   "nbconvert_exporter": "python",
   "pygments_lexer": "ipython3",
   "version": "3.7.1"
  }
 },
 "nbformat": 4,
 "nbformat_minor": 2
}
